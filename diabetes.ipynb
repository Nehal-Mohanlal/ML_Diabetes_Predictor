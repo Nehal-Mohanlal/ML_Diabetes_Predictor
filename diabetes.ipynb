{
 "cells": [
  {
   "cell_type": "code",
   "execution_count": 1,
   "id": "90acbaf9",
   "metadata": {},
   "outputs": [],
   "source": [
    "#This dataset aims to predict if a patient has diabetes based on certain criteria \n",
    "#In this notebook: \n",
    "#Data exploration \n",
    "#preprocessing \n",
    "#training and testing \n",
    "#Evaluating "
   ]
  },
  {
   "cell_type": "code",
   "execution_count": 21,
   "id": "1ea82435",
   "metadata": {},
   "outputs": [],
   "source": [
    "import pandas as pd \n",
    "import numpy as np \n",
    "import seaborn as sns \n",
    "import matplotlib.pyplot as plt"
   ]
  },
  {
   "cell_type": "code",
   "execution_count": 3,
   "id": "d74b17ad",
   "metadata": {},
   "outputs": [],
   "source": [
    "ds = pd.read_csv(\"diabetes.csv\") "
   ]
  },
  {
   "cell_type": "code",
   "execution_count": 4,
   "id": "7f96480b",
   "metadata": {},
   "outputs": [
    {
     "data": {
      "text/html": [
       "<div>\n",
       "<style scoped>\n",
       "    .dataframe tbody tr th:only-of-type {\n",
       "        vertical-align: middle;\n",
       "    }\n",
       "\n",
       "    .dataframe tbody tr th {\n",
       "        vertical-align: top;\n",
       "    }\n",
       "\n",
       "    .dataframe thead th {\n",
       "        text-align: right;\n",
       "    }\n",
       "</style>\n",
       "<table border=\"1\" class=\"dataframe\">\n",
       "  <thead>\n",
       "    <tr style=\"text-align: right;\">\n",
       "      <th></th>\n",
       "      <th>PatientID</th>\n",
       "      <th>Pregnancies</th>\n",
       "      <th>PlasmaGlucose</th>\n",
       "      <th>DiastolicBloodPressure</th>\n",
       "      <th>TricepsThickness</th>\n",
       "      <th>SerumInsulin</th>\n",
       "      <th>BMI</th>\n",
       "      <th>DiabetesPedigree</th>\n",
       "      <th>Age</th>\n",
       "      <th>Diabetic</th>\n",
       "    </tr>\n",
       "  </thead>\n",
       "  <tbody>\n",
       "    <tr>\n",
       "      <th>0</th>\n",
       "      <td>1354778</td>\n",
       "      <td>0</td>\n",
       "      <td>171</td>\n",
       "      <td>80</td>\n",
       "      <td>34</td>\n",
       "      <td>23</td>\n",
       "      <td>43.509726</td>\n",
       "      <td>1.213191</td>\n",
       "      <td>21</td>\n",
       "      <td>0</td>\n",
       "    </tr>\n",
       "    <tr>\n",
       "      <th>1</th>\n",
       "      <td>1147438</td>\n",
       "      <td>8</td>\n",
       "      <td>92</td>\n",
       "      <td>93</td>\n",
       "      <td>47</td>\n",
       "      <td>36</td>\n",
       "      <td>21.240576</td>\n",
       "      <td>0.158365</td>\n",
       "      <td>23</td>\n",
       "      <td>0</td>\n",
       "    </tr>\n",
       "    <tr>\n",
       "      <th>2</th>\n",
       "      <td>1640031</td>\n",
       "      <td>7</td>\n",
       "      <td>115</td>\n",
       "      <td>47</td>\n",
       "      <td>52</td>\n",
       "      <td>35</td>\n",
       "      <td>41.511523</td>\n",
       "      <td>0.079019</td>\n",
       "      <td>23</td>\n",
       "      <td>0</td>\n",
       "    </tr>\n",
       "    <tr>\n",
       "      <th>3</th>\n",
       "      <td>1883350</td>\n",
       "      <td>9</td>\n",
       "      <td>103</td>\n",
       "      <td>78</td>\n",
       "      <td>25</td>\n",
       "      <td>304</td>\n",
       "      <td>29.582192</td>\n",
       "      <td>1.282870</td>\n",
       "      <td>43</td>\n",
       "      <td>1</td>\n",
       "    </tr>\n",
       "    <tr>\n",
       "      <th>4</th>\n",
       "      <td>1424119</td>\n",
       "      <td>1</td>\n",
       "      <td>85</td>\n",
       "      <td>59</td>\n",
       "      <td>27</td>\n",
       "      <td>35</td>\n",
       "      <td>42.604536</td>\n",
       "      <td>0.549542</td>\n",
       "      <td>22</td>\n",
       "      <td>0</td>\n",
       "    </tr>\n",
       "  </tbody>\n",
       "</table>\n",
       "</div>"
      ],
      "text/plain": [
       "   PatientID  Pregnancies  PlasmaGlucose  DiastolicBloodPressure  \\\n",
       "0    1354778            0            171                      80   \n",
       "1    1147438            8             92                      93   \n",
       "2    1640031            7            115                      47   \n",
       "3    1883350            9            103                      78   \n",
       "4    1424119            1             85                      59   \n",
       "\n",
       "   TricepsThickness  SerumInsulin        BMI  DiabetesPedigree  Age  Diabetic  \n",
       "0                34            23  43.509726          1.213191   21         0  \n",
       "1                47            36  21.240576          0.158365   23         0  \n",
       "2                52            35  41.511523          0.079019   23         0  \n",
       "3                25           304  29.582192          1.282870   43         1  \n",
       "4                27            35  42.604536          0.549542   22         0  "
      ]
     },
     "execution_count": 4,
     "metadata": {},
     "output_type": "execute_result"
    }
   ],
   "source": [
    "ds.head()"
   ]
  },
  {
   "cell_type": "code",
   "execution_count": 5,
   "id": "a0ab4fb5",
   "metadata": {},
   "outputs": [
    {
     "data": {
      "text/html": [
       "<div>\n",
       "<style scoped>\n",
       "    .dataframe tbody tr th:only-of-type {\n",
       "        vertical-align: middle;\n",
       "    }\n",
       "\n",
       "    .dataframe tbody tr th {\n",
       "        vertical-align: top;\n",
       "    }\n",
       "\n",
       "    .dataframe thead th {\n",
       "        text-align: right;\n",
       "    }\n",
       "</style>\n",
       "<table border=\"1\" class=\"dataframe\">\n",
       "  <thead>\n",
       "    <tr style=\"text-align: right;\">\n",
       "      <th></th>\n",
       "      <th>PatientID</th>\n",
       "      <th>Pregnancies</th>\n",
       "      <th>PlasmaGlucose</th>\n",
       "      <th>DiastolicBloodPressure</th>\n",
       "      <th>TricepsThickness</th>\n",
       "      <th>SerumInsulin</th>\n",
       "      <th>BMI</th>\n",
       "      <th>DiabetesPedigree</th>\n",
       "      <th>Age</th>\n",
       "      <th>Diabetic</th>\n",
       "    </tr>\n",
       "  </thead>\n",
       "  <tbody>\n",
       "    <tr>\n",
       "      <th>count</th>\n",
       "      <td>1.500000e+04</td>\n",
       "      <td>15000.000000</td>\n",
       "      <td>15000.000000</td>\n",
       "      <td>15000.000000</td>\n",
       "      <td>15000.000000</td>\n",
       "      <td>15000.000000</td>\n",
       "      <td>15000.000000</td>\n",
       "      <td>15000.000000</td>\n",
       "      <td>15000.000000</td>\n",
       "      <td>15000.000000</td>\n",
       "    </tr>\n",
       "    <tr>\n",
       "      <th>mean</th>\n",
       "      <td>1.502922e+06</td>\n",
       "      <td>3.224533</td>\n",
       "      <td>107.856867</td>\n",
       "      <td>71.220667</td>\n",
       "      <td>28.814000</td>\n",
       "      <td>137.852133</td>\n",
       "      <td>31.509646</td>\n",
       "      <td>0.398968</td>\n",
       "      <td>30.137733</td>\n",
       "      <td>0.333333</td>\n",
       "    </tr>\n",
       "    <tr>\n",
       "      <th>std</th>\n",
       "      <td>2.892534e+05</td>\n",
       "      <td>3.391020</td>\n",
       "      <td>31.981975</td>\n",
       "      <td>16.758716</td>\n",
       "      <td>14.555716</td>\n",
       "      <td>133.068252</td>\n",
       "      <td>9.759000</td>\n",
       "      <td>0.377944</td>\n",
       "      <td>12.089703</td>\n",
       "      <td>0.471420</td>\n",
       "    </tr>\n",
       "    <tr>\n",
       "      <th>min</th>\n",
       "      <td>1.000038e+06</td>\n",
       "      <td>0.000000</td>\n",
       "      <td>44.000000</td>\n",
       "      <td>24.000000</td>\n",
       "      <td>7.000000</td>\n",
       "      <td>14.000000</td>\n",
       "      <td>18.200512</td>\n",
       "      <td>0.078044</td>\n",
       "      <td>21.000000</td>\n",
       "      <td>0.000000</td>\n",
       "    </tr>\n",
       "    <tr>\n",
       "      <th>25%</th>\n",
       "      <td>1.252866e+06</td>\n",
       "      <td>0.000000</td>\n",
       "      <td>84.000000</td>\n",
       "      <td>58.000000</td>\n",
       "      <td>15.000000</td>\n",
       "      <td>39.000000</td>\n",
       "      <td>21.259887</td>\n",
       "      <td>0.137743</td>\n",
       "      <td>22.000000</td>\n",
       "      <td>0.000000</td>\n",
       "    </tr>\n",
       "    <tr>\n",
       "      <th>50%</th>\n",
       "      <td>1.505508e+06</td>\n",
       "      <td>2.000000</td>\n",
       "      <td>104.000000</td>\n",
       "      <td>72.000000</td>\n",
       "      <td>31.000000</td>\n",
       "      <td>83.000000</td>\n",
       "      <td>31.767940</td>\n",
       "      <td>0.200297</td>\n",
       "      <td>24.000000</td>\n",
       "      <td>0.000000</td>\n",
       "    </tr>\n",
       "    <tr>\n",
       "      <th>75%</th>\n",
       "      <td>1.755205e+06</td>\n",
       "      <td>6.000000</td>\n",
       "      <td>129.000000</td>\n",
       "      <td>85.000000</td>\n",
       "      <td>41.000000</td>\n",
       "      <td>195.000000</td>\n",
       "      <td>39.259692</td>\n",
       "      <td>0.616285</td>\n",
       "      <td>35.000000</td>\n",
       "      <td>1.000000</td>\n",
       "    </tr>\n",
       "    <tr>\n",
       "      <th>max</th>\n",
       "      <td>1.999997e+06</td>\n",
       "      <td>14.000000</td>\n",
       "      <td>192.000000</td>\n",
       "      <td>117.000000</td>\n",
       "      <td>93.000000</td>\n",
       "      <td>799.000000</td>\n",
       "      <td>56.034628</td>\n",
       "      <td>2.301594</td>\n",
       "      <td>77.000000</td>\n",
       "      <td>1.000000</td>\n",
       "    </tr>\n",
       "  </tbody>\n",
       "</table>\n",
       "</div>"
      ],
      "text/plain": [
       "          PatientID   Pregnancies  PlasmaGlucose  DiastolicBloodPressure  \\\n",
       "count  1.500000e+04  15000.000000   15000.000000            15000.000000   \n",
       "mean   1.502922e+06      3.224533     107.856867               71.220667   \n",
       "std    2.892534e+05      3.391020      31.981975               16.758716   \n",
       "min    1.000038e+06      0.000000      44.000000               24.000000   \n",
       "25%    1.252866e+06      0.000000      84.000000               58.000000   \n",
       "50%    1.505508e+06      2.000000     104.000000               72.000000   \n",
       "75%    1.755205e+06      6.000000     129.000000               85.000000   \n",
       "max    1.999997e+06     14.000000     192.000000              117.000000   \n",
       "\n",
       "       TricepsThickness  SerumInsulin           BMI  DiabetesPedigree  \\\n",
       "count      15000.000000  15000.000000  15000.000000      15000.000000   \n",
       "mean          28.814000    137.852133     31.509646          0.398968   \n",
       "std           14.555716    133.068252      9.759000          0.377944   \n",
       "min            7.000000     14.000000     18.200512          0.078044   \n",
       "25%           15.000000     39.000000     21.259887          0.137743   \n",
       "50%           31.000000     83.000000     31.767940          0.200297   \n",
       "75%           41.000000    195.000000     39.259692          0.616285   \n",
       "max           93.000000    799.000000     56.034628          2.301594   \n",
       "\n",
       "                Age      Diabetic  \n",
       "count  15000.000000  15000.000000  \n",
       "mean      30.137733      0.333333  \n",
       "std       12.089703      0.471420  \n",
       "min       21.000000      0.000000  \n",
       "25%       22.000000      0.000000  \n",
       "50%       24.000000      0.000000  \n",
       "75%       35.000000      1.000000  \n",
       "max       77.000000      1.000000  "
      ]
     },
     "execution_count": 5,
     "metadata": {},
     "output_type": "execute_result"
    }
   ],
   "source": [
    "ds.describe()"
   ]
  },
  {
   "cell_type": "code",
   "execution_count": 6,
   "id": "aff1be25",
   "metadata": {},
   "outputs": [
    {
     "data": {
      "text/plain": [
       "PatientID                   int64\n",
       "Pregnancies                 int64\n",
       "PlasmaGlucose               int64\n",
       "DiastolicBloodPressure      int64\n",
       "TricepsThickness            int64\n",
       "SerumInsulin                int64\n",
       "BMI                       float64\n",
       "DiabetesPedigree          float64\n",
       "Age                         int64\n",
       "Diabetic                    int64\n",
       "dtype: object"
      ]
     },
     "execution_count": 6,
     "metadata": {},
     "output_type": "execute_result"
    }
   ],
   "source": [
    "ds.dtypes"
   ]
  },
  {
   "cell_type": "code",
   "execution_count": 7,
   "id": "81cc4c4c",
   "metadata": {},
   "outputs": [
    {
     "data": {
      "text/plain": [
       "PatientID                 0\n",
       "Pregnancies               0\n",
       "PlasmaGlucose             0\n",
       "DiastolicBloodPressure    0\n",
       "TricepsThickness          0\n",
       "SerumInsulin              0\n",
       "BMI                       0\n",
       "DiabetesPedigree          0\n",
       "Age                       0\n",
       "Diabetic                  0\n",
       "dtype: int64"
      ]
     },
     "execution_count": 7,
     "metadata": {},
     "output_type": "execute_result"
    }
   ],
   "source": [
    "null_values = ds.isnull().sum()\n",
    "null_values"
   ]
  },
  {
   "cell_type": "code",
   "execution_count": 8,
   "id": "e1aa3d3d",
   "metadata": {},
   "outputs": [],
   "source": [
    "dataset = ds.drop(['PatientID'], axis =1)"
   ]
  },
  {
   "cell_type": "code",
   "execution_count": 9,
   "id": "f816368d",
   "metadata": {},
   "outputs": [
    {
     "data": {
      "text/html": [
       "<div>\n",
       "<style scoped>\n",
       "    .dataframe tbody tr th:only-of-type {\n",
       "        vertical-align: middle;\n",
       "    }\n",
       "\n",
       "    .dataframe tbody tr th {\n",
       "        vertical-align: top;\n",
       "    }\n",
       "\n",
       "    .dataframe thead th {\n",
       "        text-align: right;\n",
       "    }\n",
       "</style>\n",
       "<table border=\"1\" class=\"dataframe\">\n",
       "  <thead>\n",
       "    <tr style=\"text-align: right;\">\n",
       "      <th></th>\n",
       "      <th>Pregnancies</th>\n",
       "      <th>PlasmaGlucose</th>\n",
       "      <th>DiastolicBloodPressure</th>\n",
       "      <th>TricepsThickness</th>\n",
       "      <th>SerumInsulin</th>\n",
       "      <th>BMI</th>\n",
       "      <th>DiabetesPedigree</th>\n",
       "      <th>Age</th>\n",
       "      <th>Diabetic</th>\n",
       "    </tr>\n",
       "  </thead>\n",
       "  <tbody>\n",
       "    <tr>\n",
       "      <th>0</th>\n",
       "      <td>0</td>\n",
       "      <td>171</td>\n",
       "      <td>80</td>\n",
       "      <td>34</td>\n",
       "      <td>23</td>\n",
       "      <td>43.509726</td>\n",
       "      <td>1.213191</td>\n",
       "      <td>21</td>\n",
       "      <td>0</td>\n",
       "    </tr>\n",
       "    <tr>\n",
       "      <th>1</th>\n",
       "      <td>8</td>\n",
       "      <td>92</td>\n",
       "      <td>93</td>\n",
       "      <td>47</td>\n",
       "      <td>36</td>\n",
       "      <td>21.240576</td>\n",
       "      <td>0.158365</td>\n",
       "      <td>23</td>\n",
       "      <td>0</td>\n",
       "    </tr>\n",
       "    <tr>\n",
       "      <th>2</th>\n",
       "      <td>7</td>\n",
       "      <td>115</td>\n",
       "      <td>47</td>\n",
       "      <td>52</td>\n",
       "      <td>35</td>\n",
       "      <td>41.511523</td>\n",
       "      <td>0.079019</td>\n",
       "      <td>23</td>\n",
       "      <td>0</td>\n",
       "    </tr>\n",
       "    <tr>\n",
       "      <th>3</th>\n",
       "      <td>9</td>\n",
       "      <td>103</td>\n",
       "      <td>78</td>\n",
       "      <td>25</td>\n",
       "      <td>304</td>\n",
       "      <td>29.582192</td>\n",
       "      <td>1.282870</td>\n",
       "      <td>43</td>\n",
       "      <td>1</td>\n",
       "    </tr>\n",
       "    <tr>\n",
       "      <th>4</th>\n",
       "      <td>1</td>\n",
       "      <td>85</td>\n",
       "      <td>59</td>\n",
       "      <td>27</td>\n",
       "      <td>35</td>\n",
       "      <td>42.604536</td>\n",
       "      <td>0.549542</td>\n",
       "      <td>22</td>\n",
       "      <td>0</td>\n",
       "    </tr>\n",
       "  </tbody>\n",
       "</table>\n",
       "</div>"
      ],
      "text/plain": [
       "   Pregnancies  PlasmaGlucose  DiastolicBloodPressure  TricepsThickness  \\\n",
       "0            0            171                      80                34   \n",
       "1            8             92                      93                47   \n",
       "2            7            115                      47                52   \n",
       "3            9            103                      78                25   \n",
       "4            1             85                      59                27   \n",
       "\n",
       "   SerumInsulin        BMI  DiabetesPedigree  Age  Diabetic  \n",
       "0            23  43.509726          1.213191   21         0  \n",
       "1            36  21.240576          0.158365   23         0  \n",
       "2            35  41.511523          0.079019   23         0  \n",
       "3           304  29.582192          1.282870   43         1  \n",
       "4            35  42.604536          0.549542   22         0  "
      ]
     },
     "execution_count": 9,
     "metadata": {},
     "output_type": "execute_result"
    }
   ],
   "source": [
    "dataset.head()"
   ]
  },
  {
   "cell_type": "code",
   "execution_count": 10,
   "id": "4b89795a",
   "metadata": {},
   "outputs": [
    {
     "data": {
      "text/html": [
       "<div>\n",
       "<style scoped>\n",
       "    .dataframe tbody tr th:only-of-type {\n",
       "        vertical-align: middle;\n",
       "    }\n",
       "\n",
       "    .dataframe tbody tr th {\n",
       "        vertical-align: top;\n",
       "    }\n",
       "\n",
       "    .dataframe thead th {\n",
       "        text-align: right;\n",
       "    }\n",
       "</style>\n",
       "<table border=\"1\" class=\"dataframe\">\n",
       "  <thead>\n",
       "    <tr style=\"text-align: right;\">\n",
       "      <th></th>\n",
       "      <th>Pregnancies</th>\n",
       "      <th>PlasmaGlucose</th>\n",
       "      <th>DiastolicBloodPressure</th>\n",
       "      <th>TricepsThickness</th>\n",
       "      <th>SerumInsulin</th>\n",
       "      <th>BMI</th>\n",
       "      <th>DiabetesPedigree</th>\n",
       "      <th>Age</th>\n",
       "      <th>Diabetic</th>\n",
       "    </tr>\n",
       "  </thead>\n",
       "  <tbody>\n",
       "    <tr>\n",
       "      <th>14995</th>\n",
       "      <td>10</td>\n",
       "      <td>65</td>\n",
       "      <td>60</td>\n",
       "      <td>46</td>\n",
       "      <td>177</td>\n",
       "      <td>33.512468</td>\n",
       "      <td>0.148327</td>\n",
       "      <td>41</td>\n",
       "      <td>1</td>\n",
       "    </tr>\n",
       "    <tr>\n",
       "      <th>14996</th>\n",
       "      <td>2</td>\n",
       "      <td>73</td>\n",
       "      <td>66</td>\n",
       "      <td>27</td>\n",
       "      <td>168</td>\n",
       "      <td>30.132636</td>\n",
       "      <td>0.862252</td>\n",
       "      <td>38</td>\n",
       "      <td>1</td>\n",
       "    </tr>\n",
       "    <tr>\n",
       "      <th>14997</th>\n",
       "      <td>0</td>\n",
       "      <td>93</td>\n",
       "      <td>89</td>\n",
       "      <td>43</td>\n",
       "      <td>57</td>\n",
       "      <td>18.690683</td>\n",
       "      <td>0.427049</td>\n",
       "      <td>24</td>\n",
       "      <td>0</td>\n",
       "    </tr>\n",
       "    <tr>\n",
       "      <th>14998</th>\n",
       "      <td>0</td>\n",
       "      <td>132</td>\n",
       "      <td>98</td>\n",
       "      <td>18</td>\n",
       "      <td>161</td>\n",
       "      <td>19.791645</td>\n",
       "      <td>0.302257</td>\n",
       "      <td>23</td>\n",
       "      <td>0</td>\n",
       "    </tr>\n",
       "    <tr>\n",
       "      <th>14999</th>\n",
       "      <td>3</td>\n",
       "      <td>114</td>\n",
       "      <td>65</td>\n",
       "      <td>47</td>\n",
       "      <td>512</td>\n",
       "      <td>36.215437</td>\n",
       "      <td>0.147363</td>\n",
       "      <td>34</td>\n",
       "      <td>1</td>\n",
       "    </tr>\n",
       "  </tbody>\n",
       "</table>\n",
       "</div>"
      ],
      "text/plain": [
       "       Pregnancies  PlasmaGlucose  DiastolicBloodPressure  TricepsThickness  \\\n",
       "14995           10             65                      60                46   \n",
       "14996            2             73                      66                27   \n",
       "14997            0             93                      89                43   \n",
       "14998            0            132                      98                18   \n",
       "14999            3            114                      65                47   \n",
       "\n",
       "       SerumInsulin        BMI  DiabetesPedigree  Age  Diabetic  \n",
       "14995           177  33.512468          0.148327   41         1  \n",
       "14996           168  30.132636          0.862252   38         1  \n",
       "14997            57  18.690683          0.427049   24         0  \n",
       "14998           161  19.791645          0.302257   23         0  \n",
       "14999           512  36.215437          0.147363   34         1  "
      ]
     },
     "execution_count": 10,
     "metadata": {},
     "output_type": "execute_result"
    }
   ],
   "source": [
    "dataset.tail()"
   ]
  },
  {
   "cell_type": "code",
   "execution_count": 13,
   "id": "a4114685",
   "metadata": {},
   "outputs": [
    {
     "data": {
      "text/html": [
       "<div>\n",
       "<style scoped>\n",
       "    .dataframe tbody tr th:only-of-type {\n",
       "        vertical-align: middle;\n",
       "    }\n",
       "\n",
       "    .dataframe tbody tr th {\n",
       "        vertical-align: top;\n",
       "    }\n",
       "\n",
       "    .dataframe thead th {\n",
       "        text-align: right;\n",
       "    }\n",
       "</style>\n",
       "<table border=\"1\" class=\"dataframe\">\n",
       "  <thead>\n",
       "    <tr style=\"text-align: right;\">\n",
       "      <th></th>\n",
       "      <th>Pregnancies</th>\n",
       "      <th>PlasmaGlucose</th>\n",
       "      <th>DiastolicBloodPressure</th>\n",
       "      <th>TricepsThickness</th>\n",
       "      <th>SerumInsulin</th>\n",
       "      <th>BMI</th>\n",
       "      <th>DiabetesPedigree</th>\n",
       "      <th>Age</th>\n",
       "      <th>Diabetic</th>\n",
       "    </tr>\n",
       "  </thead>\n",
       "  <tbody>\n",
       "    <tr>\n",
       "      <th>Pregnancies</th>\n",
       "      <td>1.000000</td>\n",
       "      <td>0.054502</td>\n",
       "      <td>0.043528</td>\n",
       "      <td>0.063605</td>\n",
       "      <td>0.104487</td>\n",
       "      <td>0.086386</td>\n",
       "      <td>0.054240</td>\n",
       "      <td>0.136972</td>\n",
       "      <td>0.407315</td>\n",
       "    </tr>\n",
       "    <tr>\n",
       "      <th>PlasmaGlucose</th>\n",
       "      <td>0.054502</td>\n",
       "      <td>1.000000</td>\n",
       "      <td>0.007212</td>\n",
       "      <td>0.027100</td>\n",
       "      <td>0.033545</td>\n",
       "      <td>0.020653</td>\n",
       "      <td>0.009057</td>\n",
       "      <td>0.038864</td>\n",
       "      <td>0.128004</td>\n",
       "    </tr>\n",
       "    <tr>\n",
       "      <th>DiastolicBloodPressure</th>\n",
       "      <td>0.043528</td>\n",
       "      <td>0.007212</td>\n",
       "      <td>1.000000</td>\n",
       "      <td>0.011106</td>\n",
       "      <td>0.022649</td>\n",
       "      <td>0.015873</td>\n",
       "      <td>0.014099</td>\n",
       "      <td>0.041333</td>\n",
       "      <td>0.091307</td>\n",
       "    </tr>\n",
       "    <tr>\n",
       "      <th>TricepsThickness</th>\n",
       "      <td>0.063605</td>\n",
       "      <td>0.027100</td>\n",
       "      <td>0.011106</td>\n",
       "      <td>1.000000</td>\n",
       "      <td>0.029688</td>\n",
       "      <td>0.024745</td>\n",
       "      <td>-0.000951</td>\n",
       "      <td>0.061383</td>\n",
       "      <td>0.152505</td>\n",
       "    </tr>\n",
       "    <tr>\n",
       "      <th>SerumInsulin</th>\n",
       "      <td>0.104487</td>\n",
       "      <td>0.033545</td>\n",
       "      <td>0.022649</td>\n",
       "      <td>0.029688</td>\n",
       "      <td>1.000000</td>\n",
       "      <td>0.051223</td>\n",
       "      <td>0.046324</td>\n",
       "      <td>0.088007</td>\n",
       "      <td>0.247375</td>\n",
       "    </tr>\n",
       "    <tr>\n",
       "      <th>BMI</th>\n",
       "      <td>0.086386</td>\n",
       "      <td>0.020653</td>\n",
       "      <td>0.015873</td>\n",
       "      <td>0.024745</td>\n",
       "      <td>0.051223</td>\n",
       "      <td>1.000000</td>\n",
       "      <td>0.028868</td>\n",
       "      <td>0.062910</td>\n",
       "      <td>0.210508</td>\n",
       "    </tr>\n",
       "    <tr>\n",
       "      <th>DiabetesPedigree</th>\n",
       "      <td>0.054240</td>\n",
       "      <td>0.009057</td>\n",
       "      <td>0.014099</td>\n",
       "      <td>-0.000951</td>\n",
       "      <td>0.046324</td>\n",
       "      <td>0.028868</td>\n",
       "      <td>1.000000</td>\n",
       "      <td>0.055633</td>\n",
       "      <td>0.170302</td>\n",
       "    </tr>\n",
       "    <tr>\n",
       "      <th>Age</th>\n",
       "      <td>0.136972</td>\n",
       "      <td>0.038864</td>\n",
       "      <td>0.041333</td>\n",
       "      <td>0.061383</td>\n",
       "      <td>0.088007</td>\n",
       "      <td>0.062910</td>\n",
       "      <td>0.055633</td>\n",
       "      <td>1.000000</td>\n",
       "      <td>0.342605</td>\n",
       "    </tr>\n",
       "    <tr>\n",
       "      <th>Diabetic</th>\n",
       "      <td>0.407315</td>\n",
       "      <td>0.128004</td>\n",
       "      <td>0.091307</td>\n",
       "      <td>0.152505</td>\n",
       "      <td>0.247375</td>\n",
       "      <td>0.210508</td>\n",
       "      <td>0.170302</td>\n",
       "      <td>0.342605</td>\n",
       "      <td>1.000000</td>\n",
       "    </tr>\n",
       "  </tbody>\n",
       "</table>\n",
       "</div>"
      ],
      "text/plain": [
       "                        Pregnancies  PlasmaGlucose  DiastolicBloodPressure  \\\n",
       "Pregnancies                1.000000       0.054502                0.043528   \n",
       "PlasmaGlucose              0.054502       1.000000                0.007212   \n",
       "DiastolicBloodPressure     0.043528       0.007212                1.000000   \n",
       "TricepsThickness           0.063605       0.027100                0.011106   \n",
       "SerumInsulin               0.104487       0.033545                0.022649   \n",
       "BMI                        0.086386       0.020653                0.015873   \n",
       "DiabetesPedigree           0.054240       0.009057                0.014099   \n",
       "Age                        0.136972       0.038864                0.041333   \n",
       "Diabetic                   0.407315       0.128004                0.091307   \n",
       "\n",
       "                        TricepsThickness  SerumInsulin       BMI  \\\n",
       "Pregnancies                     0.063605      0.104487  0.086386   \n",
       "PlasmaGlucose                   0.027100      0.033545  0.020653   \n",
       "DiastolicBloodPressure          0.011106      0.022649  0.015873   \n",
       "TricepsThickness                1.000000      0.029688  0.024745   \n",
       "SerumInsulin                    0.029688      1.000000  0.051223   \n",
       "BMI                             0.024745      0.051223  1.000000   \n",
       "DiabetesPedigree               -0.000951      0.046324  0.028868   \n",
       "Age                             0.061383      0.088007  0.062910   \n",
       "Diabetic                        0.152505      0.247375  0.210508   \n",
       "\n",
       "                        DiabetesPedigree       Age  Diabetic  \n",
       "Pregnancies                     0.054240  0.136972  0.407315  \n",
       "PlasmaGlucose                   0.009057  0.038864  0.128004  \n",
       "DiastolicBloodPressure          0.014099  0.041333  0.091307  \n",
       "TricepsThickness               -0.000951  0.061383  0.152505  \n",
       "SerumInsulin                    0.046324  0.088007  0.247375  \n",
       "BMI                             0.028868  0.062910  0.210508  \n",
       "DiabetesPedigree                1.000000  0.055633  0.170302  \n",
       "Age                             0.055633  1.000000  0.342605  \n",
       "Diabetic                        0.170302  0.342605  1.000000  "
      ]
     },
     "execution_count": 13,
     "metadata": {},
     "output_type": "execute_result"
    }
   ],
   "source": [
    "corelation = dataset.corr()\n",
    "corelation\n"
   ]
  },
  {
   "cell_type": "code",
   "execution_count": 16,
   "id": "260989af",
   "metadata": {},
   "outputs": [],
   "source": [
    "# Pregnancies, Age, SerumInsulin and BMI have the highest corelations \n",
    "# will drop DBP, diabetes_pedigree and tricep thickness \n"
   ]
  },
  {
   "cell_type": "code",
   "execution_count": 17,
   "id": "1dde4800",
   "metadata": {},
   "outputs": [],
   "source": [
    "dataset = dataset.drop(['DiastolicBloodPressure', 'TricepsThickness', 'DiabetesPedigree'], axis =1)"
   ]
  },
  {
   "cell_type": "code",
   "execution_count": 18,
   "id": "d1b8a99b",
   "metadata": {},
   "outputs": [
    {
     "data": {
      "text/html": [
       "<div>\n",
       "<style scoped>\n",
       "    .dataframe tbody tr th:only-of-type {\n",
       "        vertical-align: middle;\n",
       "    }\n",
       "\n",
       "    .dataframe tbody tr th {\n",
       "        vertical-align: top;\n",
       "    }\n",
       "\n",
       "    .dataframe thead th {\n",
       "        text-align: right;\n",
       "    }\n",
       "</style>\n",
       "<table border=\"1\" class=\"dataframe\">\n",
       "  <thead>\n",
       "    <tr style=\"text-align: right;\">\n",
       "      <th></th>\n",
       "      <th>Pregnancies</th>\n",
       "      <th>PlasmaGlucose</th>\n",
       "      <th>SerumInsulin</th>\n",
       "      <th>BMI</th>\n",
       "      <th>Age</th>\n",
       "      <th>Diabetic</th>\n",
       "    </tr>\n",
       "  </thead>\n",
       "  <tbody>\n",
       "    <tr>\n",
       "      <th>0</th>\n",
       "      <td>0</td>\n",
       "      <td>171</td>\n",
       "      <td>23</td>\n",
       "      <td>43.509726</td>\n",
       "      <td>21</td>\n",
       "      <td>0</td>\n",
       "    </tr>\n",
       "    <tr>\n",
       "      <th>1</th>\n",
       "      <td>8</td>\n",
       "      <td>92</td>\n",
       "      <td>36</td>\n",
       "      <td>21.240576</td>\n",
       "      <td>23</td>\n",
       "      <td>0</td>\n",
       "    </tr>\n",
       "    <tr>\n",
       "      <th>2</th>\n",
       "      <td>7</td>\n",
       "      <td>115</td>\n",
       "      <td>35</td>\n",
       "      <td>41.511523</td>\n",
       "      <td>23</td>\n",
       "      <td>0</td>\n",
       "    </tr>\n",
       "    <tr>\n",
       "      <th>3</th>\n",
       "      <td>9</td>\n",
       "      <td>103</td>\n",
       "      <td>304</td>\n",
       "      <td>29.582192</td>\n",
       "      <td>43</td>\n",
       "      <td>1</td>\n",
       "    </tr>\n",
       "    <tr>\n",
       "      <th>4</th>\n",
       "      <td>1</td>\n",
       "      <td>85</td>\n",
       "      <td>35</td>\n",
       "      <td>42.604536</td>\n",
       "      <td>22</td>\n",
       "      <td>0</td>\n",
       "    </tr>\n",
       "  </tbody>\n",
       "</table>\n",
       "</div>"
      ],
      "text/plain": [
       "   Pregnancies  PlasmaGlucose  SerumInsulin        BMI  Age  Diabetic\n",
       "0            0            171            23  43.509726   21         0\n",
       "1            8             92            36  21.240576   23         0\n",
       "2            7            115            35  41.511523   23         0\n",
       "3            9            103           304  29.582192   43         1\n",
       "4            1             85            35  42.604536   22         0"
      ]
     },
     "execution_count": 18,
     "metadata": {},
     "output_type": "execute_result"
    }
   ],
   "source": [
    "dataset.head()"
   ]
  },
  {
   "cell_type": "code",
   "execution_count": null,
   "id": "ca465319",
   "metadata": {},
   "outputs": [],
   "source": [
    "##okay lets explore some of the relationships "
   ]
  },
  {
   "cell_type": "code",
   "execution_count": 27,
   "id": "889d57c3",
   "metadata": {},
   "outputs": [
    {
     "data": {
      "image/png": "[encoded data removed]",
      "text/plain": [
       "<Figure size 640x480 with 1 Axes>"
      ]
     },
     "metadata": {},
     "output_type": "display_data"
    }
   ],
   "source": [
    "sns.lineplot(x = \"Diabetic\", y=\"Pregnancies\", data=dataset)\n",
    "plt.show()"
   ]
  },
  {
   "cell_type": "code",
   "execution_count": 35,
   "id": "412d18f2",
   "metadata": {},
   "outputs": [
    {
     "data": {
      "image/png": "[encoded data removed]",
      "text/plain": [
       "<Figure size 640x480 with 1 Axes>"
      ]
     },
     "metadata": {},
     "output_type": "display_data"
    }
   ],
   "source": [
    "sns.lineplot(x = \"Diabetic\", y=\"SerumInsulin\", data=dataset)\n",
    "plt.show()"
   ]
  },
  {
   "cell_type": "code",
   "execution_count": 36,
   "id": "65f5a201",
   "metadata": {},
   "outputs": [
    {
     "data": {
      "image/png": "[encoded data removed]",
      "text/plain": [
       "<Figure size 640x480 with 1 Axes>"
      ]
     },
     "metadata": {},
     "output_type": "display_data"
    }
   ],
   "source": [
    "sns.lineplot(x = \"Diabetic\", y=\"BMI\", data=dataset)\n",
    "plt.show()"
   ]
  },
  {
   "cell_type": "code",
   "execution_count": 37,
   "id": "6aa1be8b",
   "metadata": {},
   "outputs": [
    {
     "data": {
      "image/png": "[encoded data removed]",
      "text/plain": [
       "<Figure size 640x480 with 1 Axes>"
      ]
     },
     "metadata": {},
     "output_type": "display_data"
    }
   ],
   "source": [
    "sns.lineplot(x = \"Diabetic\", y=\"Age\", data=dataset)\n",
    "plt.show()"
   ]
  },
  {
   "cell_type": "code",
   "execution_count": null,
   "id": "93611f67",
   "metadata": {},
   "outputs": [],
   "source": [
    "### Lets get to training and testing \n"
   ]
  },
  {
   "cell_type": "code",
   "execution_count": 38,
   "id": "bd68ebdb",
   "metadata": {},
   "outputs": [],
   "source": [
    "dataset = dataset.rename(columns={'Diabetic': 'Label'}) "
   ]
  },
  {
   "cell_type": "code",
   "execution_count": 39,
   "id": "bd991b76",
   "metadata": {},
   "outputs": [
    {
     "data": {
      "text/html": [
       "<div>\n",
       "<style scoped>\n",
       "    .dataframe tbody tr th:only-of-type {\n",
       "        vertical-align: middle;\n",
       "    }\n",
       "\n",
       "    .dataframe tbody tr th {\n",
       "        vertical-align: top;\n",
       "    }\n",
       "\n",
       "    .dataframe thead th {\n",
       "        text-align: right;\n",
       "    }\n",
       "</style>\n",
       "<table border=\"1\" class=\"dataframe\">\n",
       "  <thead>\n",
       "    <tr style=\"text-align: right;\">\n",
       "      <th></th>\n",
       "      <th>Pregnancies</th>\n",
       "      <th>PlasmaGlucose</th>\n",
       "      <th>SerumInsulin</th>\n",
       "      <th>BMI</th>\n",
       "      <th>Age</th>\n",
       "      <th>Label</th>\n",
       "    </tr>\n",
       "  </thead>\n",
       "  <tbody>\n",
       "    <tr>\n",
       "      <th>0</th>\n",
       "      <td>0</td>\n",
       "      <td>171</td>\n",
       "      <td>23</td>\n",
       "      <td>43.509726</td>\n",
       "      <td>21</td>\n",
       "      <td>0</td>\n",
       "    </tr>\n",
       "    <tr>\n",
       "      <th>1</th>\n",
       "      <td>8</td>\n",
       "      <td>92</td>\n",
       "      <td>36</td>\n",
       "      <td>21.240576</td>\n",
       "      <td>23</td>\n",
       "      <td>0</td>\n",
       "    </tr>\n",
       "    <tr>\n",
       "      <th>2</th>\n",
       "      <td>7</td>\n",
       "      <td>115</td>\n",
       "      <td>35</td>\n",
       "      <td>41.511523</td>\n",
       "      <td>23</td>\n",
       "      <td>0</td>\n",
       "    </tr>\n",
       "    <tr>\n",
       "      <th>3</th>\n",
       "      <td>9</td>\n",
       "      <td>103</td>\n",
       "      <td>304</td>\n",
       "      <td>29.582192</td>\n",
       "      <td>43</td>\n",
       "      <td>1</td>\n",
       "    </tr>\n",
       "    <tr>\n",
       "      <th>4</th>\n",
       "      <td>1</td>\n",
       "      <td>85</td>\n",
       "      <td>35</td>\n",
       "      <td>42.604536</td>\n",
       "      <td>22</td>\n",
       "      <td>0</td>\n",
       "    </tr>\n",
       "  </tbody>\n",
       "</table>\n",
       "</div>"
      ],
      "text/plain": [
       "   Pregnancies  PlasmaGlucose  SerumInsulin        BMI  Age  Label\n",
       "0            0            171            23  43.509726   21      0\n",
       "1            8             92            36  21.240576   23      0\n",
       "2            7            115            35  41.511523   23      0\n",
       "3            9            103           304  29.582192   43      1\n",
       "4            1             85            35  42.604536   22      0"
      ]
     },
     "execution_count": 39,
     "metadata": {},
     "output_type": "execute_result"
    }
   ],
   "source": [
    "dataset.head()"
   ]
  },
  {
   "cell_type": "code",
   "execution_count": 48,
   "id": "ba941d50",
   "metadata": {},
   "outputs": [],
   "source": [
    "from sklearn.model_selection import train_test_split , cross_val_score, StratifiedKFold\n",
    "from sklearn.preprocessing import StandardScaler  \n",
    "#models \n",
    "from sklearn.linear_model import LogisticRegression \n",
    "from sklearn.ensemble import RandomForestClassifier \n",
    "from sklearn import svm #other model I have chosen, (dependancy, might have to install)\n",
    "\n",
    "#evaluation \n",
    "from sklearn.metrics import confusion_matrix, accuracy_score, confusion_matrix\n",
    "\n",
    "X = dataset.iloc[:,:-1].values #(feature matrix)\n",
    "y = dataset.iloc[:,-1].values  # (label) \n",
    "\n"
   ]
  },
  {
   "cell_type": "code",
   "execution_count": 49,
   "id": "70e01c60",
   "metadata": {},
   "outputs": [
    {
     "name": "stdout",
     "output_type": "stream",
     "text": [
      "[[  0.         171.          23.          43.50972593  21.        ]\n",
      " [  8.          92.          36.          21.24057571  23.        ]\n",
      " [  7.         115.          35.          41.51152348  23.        ]\n",
      " ...\n",
      " [  0.          93.          57.          18.69068305  24.        ]\n",
      " [  0.         132.         161.          19.7916451   23.        ]\n",
      " [  3.         114.         512.          36.21543653  34.        ]]\n"
     ]
    }
   ],
   "source": [
    "print(X)\n"
   ]
  },
  {
   "cell_type": "code",
   "execution_count": 50,
   "id": "e8e75ab3",
   "metadata": {},
   "outputs": [
    {
     "name": "stdout",
     "output_type": "stream",
     "text": [
      "[0 0 0 ... 0 0 1]\n"
     ]
    }
   ],
   "source": [
    "print(y)"
   ]
  },
  {
   "cell_type": "code",
   "execution_count": 51,
   "id": "213439ac",
   "metadata": {},
   "outputs": [],
   "source": [
    "Xtrain,Xtest,ytrain,ytest = train_test_split(X,y,test_size=0.25) "
   ]
  },
  {
   "cell_type": "code",
   "execution_count": 52,
   "id": "3998f476",
   "metadata": {},
   "outputs": [
    {
     "name": "stdout",
     "output_type": "stream",
     "text": [
      "[[  0.          93.          43.          22.02928347  21.        ]\n",
      " [  1.          94.         146.          46.7220133   24.        ]\n",
      " [  9.         116.         227.          26.8614624   21.        ]\n",
      " ...\n",
      " [  0.          58.         151.          19.50898164  24.        ]\n",
      " [  7.          69.          23.          42.61205272  22.        ]\n",
      " [  3.         103.          87.          32.52300652  46.        ]]\n"
     ]
    }
   ],
   "source": [
    "print(Xtrain)"
   ]
  },
  {
   "cell_type": "code",
   "execution_count": 53,
   "id": "276a72cd",
   "metadata": {},
   "outputs": [
    {
     "name": "stdout",
     "output_type": "stream",
     "text": [
      "[[  2.         145.          56.          42.68980995  54.        ]\n",
      " [  0.         108.         157.          41.85032109  22.        ]\n",
      " [  6.         123.          43.          20.83186034  32.        ]\n",
      " ...\n",
      " [  6.         159.          19.          19.90799503  23.        ]\n",
      " [  1.         118.         382.          40.58391953  23.        ]\n",
      " [  1.          73.          21.          21.83516638  49.        ]]\n"
     ]
    }
   ],
   "source": [
    "print(Xtest)"
   ]
  },
  {
   "cell_type": "code",
   "execution_count": 55,
   "id": "06b774a9",
   "metadata": {},
   "outputs": [],
   "source": [
    "sc = StandardScaler()\n",
    "Xtrain_scaled = sc.fit_transform(Xtrain) \n",
    "Xtest_scaled = sc.transform(Xtest)  \n"
   ]
  },
  {
   "cell_type": "code",
   "execution_count": 56,
   "id": "214380ef",
   "metadata": {},
   "outputs": [
    {
     "name": "stdout",
     "output_type": "stream",
     "text": [
      "[[-0.9565465  -0.47369682 -0.70805303 -0.96719868 -0.7533744 ]\n",
      " [-0.66117834 -0.44236914  0.0639095   1.56206332 -0.50570354]\n",
      " [ 1.70176694  0.24683985  0.67098684 -0.47224139 -0.7533744 ]\n",
      " ...\n",
      " [-0.9565465  -1.57016566  0.10138341 -1.22535173 -0.50570354]\n",
      " [ 1.11103062 -1.22556116 -0.85794867  1.14108244 -0.67081745]\n",
      " [-0.07044202 -0.16042001 -0.37828263  0.10766729  1.31054945]]\n"
     ]
    }
   ],
   "source": [
    "print(Xtrain_scaled)"
   ]
  },
  {
   "cell_type": "code",
   "execution_count": 57,
   "id": "b8123cdf",
   "metadata": {},
   "outputs": [
    {
     "name": "stdout",
     "output_type": "stream",
     "text": [
      "[[-0.36581018  1.1553426  -0.61062087  1.14904707  1.97100508]\n",
      " [-0.9565465  -0.0037816   0.14635211  1.06305871 -0.67081745]\n",
      " [ 0.81566246  0.46613362 -0.70805303 -1.08985003  0.15475209]\n",
      " ...\n",
      " [ 0.81566246  1.59393014 -0.8879278  -1.18448102 -0.58826049]\n",
      " [-0.66117834  0.30949521  1.83267804  0.93334193 -0.58826049]\n",
      " [-0.66117834 -1.10025044 -0.87293824 -0.98708198  1.55822031]]\n"
     ]
    }
   ],
   "source": [
    "print(Xtest_scaled)"
   ]
  },
  {
   "cell_type": "code",
   "execution_count": 58,
   "id": "63bce0a6",
   "metadata": {},
   "outputs": [
    {
     "data": {
      "text/html": [
       "<style>#sk-container-id-1 {color: black;background-color: white;}#sk-container-id-1 pre{padding: 0;}#sk-container-id-1 div.sk-toggleable {background-color: white;}#sk-container-id-1 label.sk-toggleable__label {cursor: pointer;display: block;width: 100%;margin-bottom: 0;padding: 0.3em;box-sizing: border-box;text-align: center;}#sk-container-id-1 label.sk-toggleable__label-arrow:before {content: \"▸\";float: left;margin-right: 0.25em;color: #696969;}#sk-container-id-1 label.sk-toggleable__label-arrow:hover:before {color: black;}#sk-container-id-1 div.sk-estimator:hover label.sk-toggleable__label-arrow:before {color: black;}#sk-container-id-1 div.sk-toggleable__content {max-height: 0;max-width: 0;overflow: hidden;text-align: left;background-color: #f0f8ff;}#sk-container-id-1 div.sk-toggleable__content pre {margin: 0.2em;color: black;border-radius: 0.25em;background-color: #f0f8ff;}#sk-container-id-1 input.sk-toggleable__control:checked~div.sk-toggleable__content {max-height: 200px;max-width: 100%;overflow: auto;}#sk-container-id-1 input.sk-toggleable__control:checked~label.sk-toggleable__label-arrow:before {content: \"▾\";}#sk-container-id-1 div.sk-estimator input.sk-toggleable__control:checked~label.sk-toggleable__label {background-color: #d4ebff;}#sk-container-id-1 div.sk-label input.sk-toggleable__control:checked~label.sk-toggleable__label {background-color: #d4ebff;}#sk-container-id-1 input.sk-hidden--visually {border: 0;clip: rect(1px 1px 1px 1px);clip: rect(1px, 1px, 1px, 1px);height: 1px;margin: -1px;overflow: hidden;padding: 0;position: absolute;width: 1px;}#sk-container-id-1 div.sk-estimator {font-family: monospace;background-color: #f0f8ff;border: 1px dotted black;border-radius: 0.25em;box-sizing: border-box;margin-bottom: 0.5em;}#sk-container-id-1 div.sk-estimator:hover {background-color: #d4ebff;}#sk-container-id-1 div.sk-parallel-item::after {content: \"\";width: 100%;border-bottom: 1px solid gray;flex-grow: 1;}#sk-container-id-1 div.sk-label:hover label.sk-toggleable__label {background-color: #d4ebff;}#sk-container-id-1 div.sk-serial::before {content: \"\";position: absolute;border-left: 1px solid gray;box-sizing: border-box;top: 0;bottom: 0;left: 50%;z-index: 0;}#sk-container-id-1 div.sk-serial {display: flex;flex-direction: column;align-items: center;background-color: white;padding-right: 0.2em;padding-left: 0.2em;position: relative;}#sk-container-id-1 div.sk-item {position: relative;z-index: 1;}#sk-container-id-1 div.sk-parallel {display: flex;align-items: stretch;justify-content: center;background-color: white;position: relative;}#sk-container-id-1 div.sk-item::before, #sk-container-id-1 div.sk-parallel-item::before {content: \"\";position: absolute;border-left: 1px solid gray;box-sizing: border-box;top: 0;bottom: 0;left: 50%;z-index: -1;}#sk-container-id-1 div.sk-parallel-item {display: flex;flex-direction: column;z-index: 1;position: relative;background-color: white;}#sk-container-id-1 div.sk-parallel-item:first-child::after {align-self: flex-end;width: 50%;}#sk-container-id-1 div.sk-parallel-item:last-child::after {align-self: flex-start;width: 50%;}#sk-container-id-1 div.sk-parallel-item:only-child::after {width: 0;}#sk-container-id-1 div.sk-dashed-wrapped {border: 1px dashed gray;margin: 0 0.4em 0.5em 0.4em;box-sizing: border-box;padding-bottom: 0.4em;background-color: white;}#sk-container-id-1 div.sk-label label {font-family: monospace;font-weight: bold;display: inline-block;line-height: 1.2em;}#sk-container-id-1 div.sk-label-container {text-align: center;}#sk-container-id-1 div.sk-container {/* jupyter's `normalize.less` sets `[hidden] { display: none; }` but bootstrap.min.css set `[hidden] { display: none !important; }` so we also need the `!important` here to be able to override the default hidden behavior on the sphinx rendered scikit-learn.org. See: https://github.com/scikit-learn/scikit-learn/issues/21755 */display: inline-block !important;position: relative;}#sk-container-id-1 div.sk-text-repr-fallback {display: none;}</style><div id=\"sk-container-id-1\" class=\"sk-top-container\"><div class=\"sk-text-repr-fallback\"><pre>RandomForestClassifier(criterion=&#x27;entropy&#x27;, random_state=0)</pre><b>In a Jupyter environment, please rerun this cell to show the HTML representation or trust the notebook. <br />On GitHub, the HTML representation is unable to render, please try loading this page with nbviewer.org.</b></div><div class=\"sk-container\" hidden><div class=\"sk-item\"><div class=\"sk-estimator sk-toggleable\"><input class=\"sk-toggleable__control sk-hidden--visually\" id=\"sk-estimator-id-1\" type=\"checkbox\" checked><label for=\"sk-estimator-id-1\" class=\"sk-toggleable__label sk-toggleable__label-arrow\">RandomForestClassifier</label><div class=\"sk-toggleable__content\"><pre>RandomForestClassifier(criterion=&#x27;entropy&#x27;, random_state=0)</pre></div></div></div></div></div>"
      ],
      "text/plain": [
       "RandomForestClassifier(criterion='entropy', random_state=0)"
      ]
     },
     "execution_count": 58,
     "metadata": {},
     "output_type": "execute_result"
    }
   ],
   "source": [
    "RF_Classifier = RandomForestClassifier(n_estimators =100, criterion = \"entropy\", random_state=0)\n",
    "RF_Classifier.fit(Xtrain_scaled, ytrain)"
   ]
  },
  {
   "cell_type": "code",
   "execution_count": 61,
   "id": "558a81f7",
   "metadata": {},
   "outputs": [],
   "source": [
    "pred_RF = RF_Classifier.predict(Xtest_scaled)\n"
   ]
  },
  {
   "cell_type": "code",
   "execution_count": 64,
   "id": "f902b4ef",
   "metadata": {},
   "outputs": [
    {
     "name": "stdout",
     "output_type": "stream",
     "text": [
      "[[1 1]\n",
      " [0 0]\n",
      " [0 0]\n",
      " ...\n",
      " [0 0]\n",
      " [0 1]\n",
      " [0 0]]\n"
     ]
    }
   ],
   "source": [
    "print(np.concatenate((pred_RF.reshape(len(pred_RF),1),ytest.reshape(len(ytest),1)),1))"
   ]
  },
  {
   "cell_type": "code",
   "execution_count": 65,
   "id": "acb4680f",
   "metadata": {},
   "outputs": [
    {
     "name": "stdout",
     "output_type": "stream",
     "text": [
      "accuracy of model: 0.9384\n"
     ]
    }
   ],
   "source": [
    "## eval \n",
    "print(\"accuracy of model:\", accuracy_score(ytest, pred_RF))"
   ]
  },
  {
   "cell_type": "code",
   "execution_count": null,
   "id": "e578ea00",
   "metadata": {},
   "outputs": [],
   "source": []
  }
 ],
 "metadata": {
  "kernelspec": {
   "display_name": "Python 3 (ipykernel)",
   "language": "python",
   "name": "python3"
  },
  "language_info": {
   "codemirror_mode": {
    "name": "ipython",
    "version": 3
   },
   "file_extension": ".py",
   "mimetype": "text/x-python",
   "name": "python",
   "nbconvert_exporter": "python",
   "pygments_lexer": "ipython3",
   "version": "3.10.9"
  }
 },
 "nbformat": 4,
 "nbformat_minor": 5
}
